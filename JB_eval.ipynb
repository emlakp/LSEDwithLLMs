{
  "cells": [
    {
      "cell_type": "code",
      "source": [
        "from datasets import load_dataset\n",
        "import pandas as pd"
      ],
      "metadata": {
        "id": "erQxpbaFxEen"
      },
      "execution_count": 5,
      "outputs": []
    },
    {
      "cell_type": "markdown",
      "source": [
        "### Data Exploration for 🤗 CommitPackFt"
      ],
      "metadata": {
        "id": "_LzUPN4sMKGW"
      }
    },
    {
      "cell_type": "code",
      "source": [
        "dataset = load_dataset(\"bigcode/commitpackft\", \"python\")"
      ],
      "metadata": {
        "colab": {
          "base_uri": "https://localhost:8080/",
          "height": 81,
          "referenced_widgets": [
            "689354bca487401785c832aae8c25280",
            "393c72a99e10437686de0d67aac15046",
            "879f8dc6059b41229e3ebc56bd0fa063",
            "9acaa0b648c84857a58b28915060de1b",
            "abdd2a7c5f384c23b03cb01413ebbd36",
            "28d5019743bf4456857953a405a9617d",
            "b6d0e9a1c2154a56ab4f115b862b1a55",
            "d35b009dd9394ee79acb3a8c93e73fd6",
            "a488a7cb7bea4ebb85357a58ee0e6b56",
            "f87aa101c5b84c68b8d57a6cdfab5153",
            "6827c8cd0df641ee9fa70341a4b9d0e0",
            "10b0418efc354eefa296a53c1b2bef25",
            "6521f3acf54440c6ac154407b2de0e16",
            "43437737f2dc40a8a1f2f29880a04e35",
            "e4d59fc560c64784a766f17dfd9ff0c6",
            "d06978e4a5664c90b56bf2623fb935b6",
            "8f620dc5641240aa96e802a1865020b6",
            "42b0a17241ba4973b3fa9c956df1321f",
            "1e1be87673514b4a9294c6d1dcf686de",
            "9aba585adebc47eea67d565f705ab885",
            "cf95ccaf5b5d41c2967f7c2062f90e69",
            "b751183ca0bc43a6855e7e20888735c6"
          ]
        },
        "id": "D6eyqCe7o1OR",
        "outputId": "12309009-00ba-4765-ee99-6faf7c259462"
      },
      "execution_count": 20,
      "outputs": [
        {
          "output_type": "display_data",
          "data": {
            "text/plain": [
              "Downloading data:   0%|          | 0.00/59.5M [00:00<?, ?B/s]"
            ],
            "application/vnd.jupyter.widget-view+json": {
              "version_major": 2,
              "version_minor": 0,
              "model_id": "689354bca487401785c832aae8c25280"
            }
          },
          "metadata": {}
        },
        {
          "output_type": "display_data",
          "data": {
            "text/plain": [
              "Generating train split:   0%|          | 0/56025 [00:00<?, ? examples/s]"
            ],
            "application/vnd.jupyter.widget-view+json": {
              "version_major": 2,
              "version_minor": 0,
              "model_id": "10b0418efc354eefa296a53c1b2bef25"
            }
          },
          "metadata": {}
        }
      ]
    },
    {
      "cell_type": "markdown",
      "source": [
        "The dataset contains following features:\n",
        "\n",
        "1.   Unique commit ID\n",
        "2.   New and old file names\n",
        "3.   New and old contents\n",
        "4.   Subject\n",
        "5.   Message\n",
        "6.   Programming Language\n",
        "7.   License\n",
        "8.   Repository\n",
        "\n",
        "\n",
        "\n"
      ],
      "metadata": {
        "id": "13lUXq5Byp_i"
      }
    },
    {
      "cell_type": "markdown",
      "source": [
        "Dataset consists of natural language - code pairs, where messages can serve as instructions and code as solutions.\n",
        "\n",
        "Python makes up roughly 8% percent of the total dataset, and contains 56025 samples. So models finetuned on the dataset must remain quite general."
      ],
      "metadata": {
        "id": "pxQQON4SzKEd"
      }
    },
    {
      "cell_type": "markdown",
      "source": [
        "The prompt and answer can be constructed from the samples in the following way:\n",
        "\n",
        "\n",
        "\n",
        "> Old content (context) + message (instruction) = new content (answer)\n",
        "\n",
        "\n",
        "\n",
        "\n",
        "\n",
        "\n"
      ],
      "metadata": {
        "id": "JcaqEyaL06aN"
      }
    },
    {
      "cell_type": "markdown",
      "source": [
        "Example of such a triple:"
      ],
      "metadata": {
        "id": "nuttn3tW1vYf"
      }
    },
    {
      "cell_type": "code",
      "source": [
        "print(dataset['train'][1231]['old_contents'])"
      ],
      "metadata": {
        "colab": {
          "base_uri": "https://localhost:8080/"
        },
        "id": "8hNAoJGJ0zLI",
        "outputId": "96fd710a-9302-4617-8aa2-9cb2ec4f5220"
      },
      "execution_count": 30,
      "outputs": [
        {
          "output_type": "stream",
          "name": "stdout",
          "text": [
            "# -*- coding: utf-8 -*-\n",
            "\n",
            "from django.db import models\n",
            "from django.contrib.contenttypes.models import ContentType\n",
            "from django.contrib.contenttypes import generic\n",
            "\n",
            "class Authors(models.Model):\n",
            "    author = models.ForeignKey(ContentType)\n",
            "    object_id = models.PositiveIntegerField()\n",
            "    content_object = generic.GenericForeignKey('author', 'object_id')\n",
            "\n",
            "    def __unicode__(self):\n",
            "        return self.content_object.name\n",
            "\n",
            "class Announcements(models.Model):\n",
            "    title = models.CharField(max_length = 500)\n",
            "    pubdate = models.DateTimeField()\n",
            "    creator = models.ForeignKey(Authors)\n",
            "    unique = models.CharField(max_length = 255, unique = True)\n",
            "    url = models.URLField()\n",
            "    summary = models.TextField(null = True)\n",
            "    enclosure = models.CharField(\"Attachment URL\", max_length = 255, null = True)\n",
            "\n",
            "    def __unicode__(self):\n",
            "        return self.title\n",
            "\n"
          ]
        }
      ]
    },
    {
      "cell_type": "code",
      "source": [
        "print(dataset['train'][1231]['message'])"
      ],
      "metadata": {
        "colab": {
          "base_uri": "https://localhost:8080/"
        },
        "id": "h5g1vDWH1z_w",
        "outputId": "fad1ba9a-9a28-4230-b4a3-a168b67cdefa"
      },
      "execution_count": 32,
      "outputs": [
        {
          "output_type": "stream",
          "name": "stdout",
          "text": [
            "Rename of the author field to content_type in the model, in order to\n",
            "avoid confusion\n",
            "\n"
          ]
        }
      ]
    },
    {
      "cell_type": "code",
      "source": [
        "print(dataset['train'][1231]['new_contents'])"
      ],
      "metadata": {
        "colab": {
          "base_uri": "https://localhost:8080/"
        },
        "id": "q7xQUih0yje8",
        "outputId": "4b6cd04a-cbca-4c86-a9c7-af723620091a"
      },
      "execution_count": 29,
      "outputs": [
        {
          "output_type": "stream",
          "name": "stdout",
          "text": [
            "# -*- coding: utf-8 -*-\n",
            "\n",
            "from django.db import models\n",
            "from django.contrib.contenttypes.models import ContentType\n",
            "from django.contrib.contenttypes import generic\n",
            "\n",
            "class Authors(models.Model):\n",
            "    content_type = models.ForeignKey(ContentType)\n",
            "    object_id = models.PositiveIntegerField()\n",
            "    content_object = generic.GenericForeignKey('content_type', 'object_id')\n",
            "\n",
            "    def __unicode__(self):\n",
            "        return self.content_object.name\n",
            "\n",
            "class Announcements(models.Model):\n",
            "    title = models.CharField(max_length = 500)\n",
            "    pubdate = models.DateTimeField()\n",
            "    creator = models.ForeignKey(Authors)\n",
            "    unique = models.CharField(max_length = 255, unique = True)\n",
            "    url = models.URLField()\n",
            "    summary = models.TextField(null = True)\n",
            "    enclosure = models.CharField(\"Attachment URL\", max_length = 255, null = True)\n",
            "\n",
            "    def __unicode__(self):\n",
            "        return self.title\n",
            "\n"
          ]
        }
      ]
    },
    {
      "cell_type": "markdown",
      "source": [
        "The examples shows that dataset is very useful for learning small, targeted and precise changes in code, which is especially valuable for Bug Fixing\n",
        "\n",
        "Because of very strict filtering, the instructions are typically high-quality."
      ],
      "metadata": {
        "id": "XJobKKdn1cw9"
      }
    },
    {
      "cell_type": "markdown",
      "source": [
        "## Evaluating Refact-1.6B-fim"
      ],
      "metadata": {
        "id": "5bZwhIHzY-GE"
      }
    },
    {
      "cell_type": "markdown",
      "source": [
        "I will be using [Code Generation LM Evaluation Harness library](https://github.com/bigcode-project/bigcode-evaluation-harness)\n",
        "for evaluation.  \n",
        "\n",
        "\n",
        "As this library does not support exactly Refact-1.6B-fim, I made a few changes to it. I implemented the prompt generation for Refact-1.6B-fim, which allows it to act in code compeletion and chat modes.\n"
      ],
      "metadata": {
        "id": "yOOEnpgoZDdg"
      }
    },
    {
      "cell_type": "code",
      "execution_count": 3,
      "metadata": {
        "colab": {
          "base_uri": "https://localhost:8080/"
        },
        "id": "mla4hrvmooHt",
        "outputId": "d866fba8-5022-4ba9-8853-1d7cef4b7854"
      },
      "outputs": [
        {
          "output_type": "stream",
          "name": "stdout",
          "text": [
            "fatal: destination path 'bigcode-evaluation-harness' already exists and is not an empty directory.\n",
            "2023-12-29 12:56:44.800114: E external/local_xla/xla/stream_executor/cuda/cuda_dnn.cc:9261] Unable to register cuDNN factory: Attempting to register factory for plugin cuDNN when one has already been registered\n",
            "2023-12-29 12:56:44.800164: E external/local_xla/xla/stream_executor/cuda/cuda_fft.cc:607] Unable to register cuFFT factory: Attempting to register factory for plugin cuFFT when one has already been registered\n",
            "2023-12-29 12:56:44.801572: E external/local_xla/xla/stream_executor/cuda/cuda_blas.cc:1515] Unable to register cuBLAS factory: Attempting to register factory for plugin cuBLAS when one has already been registered\n",
            "2023-12-29 12:56:45.858691: W tensorflow/compiler/tf2tensorrt/utils/py_utils.cc:38] TF-TRT Warning: Could not find TensorRT\n",
            "Selected Tasks: ['humanevalfixtests-python']\n",
            "Loading model in bf16\n",
            "/usr/local/lib/python3.10/dist-packages/transformers/models/auto/auto_factory.py:472: FutureWarning: The `use_auth_token` argument is deprecated and will be removed in v5 of Transformers. Please use `token` instead.\n",
            "  warnings.warn(\n",
            "/usr/local/lib/python3.10/dist-packages/transformers/utils/hub.py:374: FutureWarning: The `use_auth_token` argument is deprecated and will be removed in v5 of Transformers. Please use `token` instead.\n",
            "  warnings.warn(\n",
            "/usr/local/lib/python3.10/dist-packages/transformers/models/auto/tokenization_auto.py:671: FutureWarning: The `use_auth_token` argument is deprecated and will be removed in v5 of Transformers. Please use `token` instead.\n",
            "  warnings.warn(\n",
            "number of problems for this task is 164\n",
            " 42% 138/328 [08:41<12:58,  4.10s/it]/usr/local/lib/python3.10/dist-packages/transformers/generation/utils.py:1281: UserWarning: Input length of input_ids is 1024, but `max_length` is set to 1024. This can lead to unexpected behavior. You should consider increasing `max_new_tokens`.\n",
            "  warnings.warn(\n",
            "100% 328/328 [26:12<00:00,  4.79s/it]\n",
            "generations were saved at generations.json\n",
            "Evaluating generations...\n",
            "Downloading builder script: 100% 7.92k/7.92k [00:00<00:00, 20.4MB/s]\n",
            "Downloading extra modules: 100% 13.0k/13.0k [00:00<00:00, 30.2MB/s]\n",
            "{\n",
            "  \"humanevalfixtests-python\": {\n",
            "    \"pass@1\": 0.1670731707317073,\n",
            "    \"pass@10\": 0.2621951219512195\n",
            "  },\n",
            "  \"config\": {\n",
            "    \"prefix\": \"\",\n",
            "    \"do_sample\": true,\n",
            "    \"temperature\": 0.2,\n",
            "    \"top_k\": 0,\n",
            "    \"top_p\": 0.95,\n",
            "    \"n_samples\": 10,\n",
            "    \"eos\": \"<|endoftext|>\",\n",
            "    \"seed\": 0,\n",
            "    \"model\": \"smallcloudai/Refact-1_6B-fim\",\n",
            "    \"modeltype\": \"causal\",\n",
            "    \"peft_model\": null,\n",
            "    \"revision\": null,\n",
            "    \"use_auth_token\": false,\n",
            "    \"trust_remote_code\": true,\n",
            "    \"tasks\": \"humanevalfixtests-python\",\n",
            "    \"instruction_tokens\": null,\n",
            "    \"batch_size\": 5,\n",
            "    \"max_length_generation\": 1024,\n",
            "    \"precision\": \"bf16\",\n",
            "    \"load_in_8bit\": false,\n",
            "    \"load_in_4bit\": false,\n",
            "    \"limit\": null,\n",
            "    \"limit_start\": 0,\n",
            "    \"postprocess\": true,\n",
            "    \"allow_code_execution\": true,\n",
            "    \"generation_only\": false,\n",
            "    \"load_generations_path\": null,\n",
            "    \"load_data_path\": null,\n",
            "    \"metric_output_path\": \"evaluation_results.json\",\n",
            "    \"save_generations\": true,\n",
            "    \"save_generations_path\": \"generations.json\",\n",
            "    \"save_references\": false,\n",
            "    \"save_references_path\": \"references.json\",\n",
            "    \"prompt\": \"refact-chat\",\n",
            "    \"max_memory_per_gpu\": null,\n",
            "    \"check_references\": false\n",
            "  }\n",
            "}\n"
          ]
        }
      ],
      "source": [
        "!chmod 755 ./run_evaluate.sh\n",
        "!./run_evaluate.sh"
      ]
    },
    {
      "cell_type": "markdown",
      "source": [
        "The hyperparameters are chosen to be as close to the original Octopack paper as possible."
      ],
      "metadata": {
        "id": "9fKy4VQ74LCq"
      }
    },
    {
      "cell_type": "markdown",
      "source": [
        "I tried to make prompts that would comply both with what Refact-1_6B-fim expects and what prompts are like in HumanEvalFix benchmark. Here is an example of a prompt for code completion:\n",
        "\n",
        "```\n",
        "<empty_output>SYSTEM from typing import List\n",
        "\n",
        "\n",
        "def has_close_elements(numbers: List[float], threshold: float) -> bool:\n",
        "    for idx, elem in enumerate(numbers):\n",
        "        for idx2, elem2 in enumerate(numbers):\n",
        "            if idx != idx2:\n",
        "                distance = elem - elem2\n",
        "                if distance < threshold:\n",
        "                    return True\n",
        "\n",
        "    return False\n",
        "\n",
        "\n",
        "def check(has_close_elements):\n",
        "    assert has_close_elements([1.0, 2.0, 3.9, 4.0, 5.0, 2.2], 0.3) == True\n",
        "    assert has_close_elements([1.0, 2.0, 3.9, 4.0, 5.0, 2.2], 0.05) == False\n",
        "    assert has_close_elements([1.0, 2.0, 5.9, 4.0, 5.0], 0.95) == True\n",
        "    assert has_close_elements([1.0, 2.0, 5.9, 4.0, 5.0], 0.8) == False\n",
        "    assert has_close_elements([1.0, 2.0, 3.0, 4.0, 5.0, 2.0], 0.1) == True\n",
        "    assert has_close_elements([1.1, 2.2, 3.1, 4.1, 5.1], 1.0) == True\n",
        "    assert has_close_elements([1.1, 2.2, 3.1, 4.1, 5.1], 0.5) == False\n",
        "\n",
        "check(has_close_elements)\n",
        "<empty_output>USER Fix bugs in has_close_elements.\n",
        "<empty_output>ASSISTANT\n",
        "from typing import List\n",
        "\n",
        "\n",
        "def has_close_elements(numbers: List[float], threshold: float) -> bool:\n",
        "```"
      ],
      "metadata": {
        "id": "hYvgB0TGuRbq"
      }
    },
    {
      "cell_type": "markdown",
      "source": [
        "In chat mode, pass@1 is **0.167** and pass@10 is **0.262**."
      ],
      "metadata": {
        "id": "nxUNYDdlSLP2"
      }
    },
    {
      "cell_type": "markdown",
      "source": [
        "#### Drawbacks and problems of the model"
      ],
      "metadata": {
        "id": "eM-FsJ21tYvA"
      }
    },
    {
      "cell_type": "markdown",
      "source": [
        "1. The model is very sensetive to prompting. Slight changes in prompting can dramatically change the performance. Again, it is expectable of small models to **not** be robust.\n",
        "2. Just as reported in the article, model typically fails by reproducing exactly the buggy code. It is less likely to happen in the code completion setting.\n",
        "\n",
        "For instance, in has_close_element function, the model reproduces the buggy solution without adding the missing abs() operator. (However, it manages to produce right solutions when sampling several times)\n",
        "\n",
        "```\n",
        "from typing import List\n",
        "\n",
        "def has_close_elements(numbers: List[float], threshold: float) -> bool:\n",
        "    for idx, elem in enumerate(numbers):\n",
        "        for idx2, elem2 in enumerate(numbers):\n",
        "            if idx != idx2:\n",
        "                distance = elem - elem2\n",
        "                if distance < threshold:\n",
        "                    return True\n",
        "\n",
        "    return False\n",
        "```\n",
        "\n"
      ],
      "metadata": {
        "id": "oWv3A3RGaHhQ"
      }
    },
    {
      "cell_type": "markdown",
      "source": [
        "### Positive observations...\n",
        "\n",
        "3. The model is suprisingly powerful. It performs better than StarCoder, StarCoder-beta and CodeGeeX2, which are all 16B parameters models. The reason why Refact performs better than these larger models maybe that finetuning on CommitPackFt has likely taught the model to make small, targeted changes, which are typically required to fix bugs.\n",
        "4. It is also worth noting that the model as not finetuned for Python excusively, but provides comparable performance to  Python-specific models. This suggests, that further finetuning on language specific datasets would make it a powerful instrument for that specific language."
      ],
      "metadata": {
        "id": "2sK9APTWuaZ-"
      }
    },
    {
      "cell_type": "markdown",
      "source": [
        "# Git commits as a source for Code Instruction-Tuning Datasets"
      ],
      "metadata": {
        "id": "KI18q_W-va1i"
      }
    },
    {
      "cell_type": "markdown",
      "source": [
        "Git commits prove to be a valuable source of insutruction data for code generation models. The paper and these experimental results show that small changes in code, coupled with clear and precise commit messages can be used to teach models to make precise, targeted and small changes in code. This is the main capability required for HumanEvalFix, and many larger models which haven't had such fine-tuning perform poorly on this benchmark.\n",
        "\n",
        "I believe git data can be used in a varity other ways too. For istance, authours drop any commits which create new files, but these can be used for code synthesis tasks.\n",
        "\n",
        "Additionally, some other data from Git commit can used for related tasks. For instance, git diffs can be used for performing small changes, and some other data."
      ],
      "metadata": {
        "id": "nLx-_Mw42NNI"
      }
    }
  ],
  "metadata": {
    "colab": {
      "provenance": [],
      "gpuType": "V100"
    },
    "kernelspec": {
      "display_name": "Python 3",
      "name": "python3"
    },
    "language_info": {
      "name": "python"
    },
    "accelerator": "GPU",
    "widgets": {
      "application/vnd.jupyter.widget-state+json": {
        "689354bca487401785c832aae8c25280": {
          "model_module": "@jupyter-widgets/controls",
          "model_name": "HBoxModel",
          "model_module_version": "1.5.0",
          "state": {
            "_dom_classes": [],
            "_model_module": "@jupyter-widgets/controls",
            "_model_module_version": "1.5.0",
            "_model_name": "HBoxModel",
            "_view_count": null,
            "_view_module": "@jupyter-widgets/controls",
            "_view_module_version": "1.5.0",
            "_view_name": "HBoxView",
            "box_style": "",
            "children": [
              "IPY_MODEL_393c72a99e10437686de0d67aac15046",
              "IPY_MODEL_879f8dc6059b41229e3ebc56bd0fa063",
              "IPY_MODEL_9acaa0b648c84857a58b28915060de1b"
            ],
            "layout": "IPY_MODEL_abdd2a7c5f384c23b03cb01413ebbd36"
          }
        },
        "393c72a99e10437686de0d67aac15046": {
          "model_module": "@jupyter-widgets/controls",
          "model_name": "HTMLModel",
          "model_module_version": "1.5.0",
          "state": {
            "_dom_classes": [],
            "_model_module": "@jupyter-widgets/controls",
            "_model_module_version": "1.5.0",
            "_model_name": "HTMLModel",
            "_view_count": null,
            "_view_module": "@jupyter-widgets/controls",
            "_view_module_version": "1.5.0",
            "_view_name": "HTMLView",
            "description": "",
            "description_tooltip": null,
            "layout": "IPY_MODEL_28d5019743bf4456857953a405a9617d",
            "placeholder": "​",
            "style": "IPY_MODEL_b6d0e9a1c2154a56ab4f115b862b1a55",
            "value": "Downloading data: 100%"
          }
        },
        "879f8dc6059b41229e3ebc56bd0fa063": {
          "model_module": "@jupyter-widgets/controls",
          "model_name": "FloatProgressModel",
          "model_module_version": "1.5.0",
          "state": {
            "_dom_classes": [],
            "_model_module": "@jupyter-widgets/controls",
            "_model_module_version": "1.5.0",
            "_model_name": "FloatProgressModel",
            "_view_count": null,
            "_view_module": "@jupyter-widgets/controls",
            "_view_module_version": "1.5.0",
            "_view_name": "ProgressView",
            "bar_style": "success",
            "description": "",
            "description_tooltip": null,
            "layout": "IPY_MODEL_d35b009dd9394ee79acb3a8c93e73fd6",
            "max": 59462427,
            "min": 0,
            "orientation": "horizontal",
            "style": "IPY_MODEL_a488a7cb7bea4ebb85357a58ee0e6b56",
            "value": 59462427
          }
        },
        "9acaa0b648c84857a58b28915060de1b": {
          "model_module": "@jupyter-widgets/controls",
          "model_name": "HTMLModel",
          "model_module_version": "1.5.0",
          "state": {
            "_dom_classes": [],
            "_model_module": "@jupyter-widgets/controls",
            "_model_module_version": "1.5.0",
            "_model_name": "HTMLModel",
            "_view_count": null,
            "_view_module": "@jupyter-widgets/controls",
            "_view_module_version": "1.5.0",
            "_view_name": "HTMLView",
            "description": "",
            "description_tooltip": null,
            "layout": "IPY_MODEL_f87aa101c5b84c68b8d57a6cdfab5153",
            "placeholder": "​",
            "style": "IPY_MODEL_6827c8cd0df641ee9fa70341a4b9d0e0",
            "value": " 59.5M/59.5M [00:03&lt;00:00, 19.4MB/s]"
          }
        },
        "abdd2a7c5f384c23b03cb01413ebbd36": {
          "model_module": "@jupyter-widgets/base",
          "model_name": "LayoutModel",
          "model_module_version": "1.2.0",
          "state": {
            "_model_module": "@jupyter-widgets/base",
            "_model_module_version": "1.2.0",
            "_model_name": "LayoutModel",
            "_view_count": null,
            "_view_module": "@jupyter-widgets/base",
            "_view_module_version": "1.2.0",
            "_view_name": "LayoutView",
            "align_content": null,
            "align_items": null,
            "align_self": null,
            "border": null,
            "bottom": null,
            "display": null,
            "flex": null,
            "flex_flow": null,
            "grid_area": null,
            "grid_auto_columns": null,
            "grid_auto_flow": null,
            "grid_auto_rows": null,
            "grid_column": null,
            "grid_gap": null,
            "grid_row": null,
            "grid_template_areas": null,
            "grid_template_columns": null,
            "grid_template_rows": null,
            "height": null,
            "justify_content": null,
            "justify_items": null,
            "left": null,
            "margin": null,
            "max_height": null,
            "max_width": null,
            "min_height": null,
            "min_width": null,
            "object_fit": null,
            "object_position": null,
            "order": null,
            "overflow": null,
            "overflow_x": null,
            "overflow_y": null,
            "padding": null,
            "right": null,
            "top": null,
            "visibility": null,
            "width": null
          }
        },
        "28d5019743bf4456857953a405a9617d": {
          "model_module": "@jupyter-widgets/base",
          "model_name": "LayoutModel",
          "model_module_version": "1.2.0",
          "state": {
            "_model_module": "@jupyter-widgets/base",
            "_model_module_version": "1.2.0",
            "_model_name": "LayoutModel",
            "_view_count": null,
            "_view_module": "@jupyter-widgets/base",
            "_view_module_version": "1.2.0",
            "_view_name": "LayoutView",
            "align_content": null,
            "align_items": null,
            "align_self": null,
            "border": null,
            "bottom": null,
            "display": null,
            "flex": null,
            "flex_flow": null,
            "grid_area": null,
            "grid_auto_columns": null,
            "grid_auto_flow": null,
            "grid_auto_rows": null,
            "grid_column": null,
            "grid_gap": null,
            "grid_row": null,
            "grid_template_areas": null,
            "grid_template_columns": null,
            "grid_template_rows": null,
            "height": null,
            "justify_content": null,
            "justify_items": null,
            "left": null,
            "margin": null,
            "max_height": null,
            "max_width": null,
            "min_height": null,
            "min_width": null,
            "object_fit": null,
            "object_position": null,
            "order": null,
            "overflow": null,
            "overflow_x": null,
            "overflow_y": null,
            "padding": null,
            "right": null,
            "top": null,
            "visibility": null,
            "width": null
          }
        },
        "b6d0e9a1c2154a56ab4f115b862b1a55": {
          "model_module": "@jupyter-widgets/controls",
          "model_name": "DescriptionStyleModel",
          "model_module_version": "1.5.0",
          "state": {
            "_model_module": "@jupyter-widgets/controls",
            "_model_module_version": "1.5.0",
            "_model_name": "DescriptionStyleModel",
            "_view_count": null,
            "_view_module": "@jupyter-widgets/base",
            "_view_module_version": "1.2.0",
            "_view_name": "StyleView",
            "description_width": ""
          }
        },
        "d35b009dd9394ee79acb3a8c93e73fd6": {
          "model_module": "@jupyter-widgets/base",
          "model_name": "LayoutModel",
          "model_module_version": "1.2.0",
          "state": {
            "_model_module": "@jupyter-widgets/base",
            "_model_module_version": "1.2.0",
            "_model_name": "LayoutModel",
            "_view_count": null,
            "_view_module": "@jupyter-widgets/base",
            "_view_module_version": "1.2.0",
            "_view_name": "LayoutView",
            "align_content": null,
            "align_items": null,
            "align_self": null,
            "border": null,
            "bottom": null,
            "display": null,
            "flex": null,
            "flex_flow": null,
            "grid_area": null,
            "grid_auto_columns": null,
            "grid_auto_flow": null,
            "grid_auto_rows": null,
            "grid_column": null,
            "grid_gap": null,
            "grid_row": null,
            "grid_template_areas": null,
            "grid_template_columns": null,
            "grid_template_rows": null,
            "height": null,
            "justify_content": null,
            "justify_items": null,
            "left": null,
            "margin": null,
            "max_height": null,
            "max_width": null,
            "min_height": null,
            "min_width": null,
            "object_fit": null,
            "object_position": null,
            "order": null,
            "overflow": null,
            "overflow_x": null,
            "overflow_y": null,
            "padding": null,
            "right": null,
            "top": null,
            "visibility": null,
            "width": null
          }
        },
        "a488a7cb7bea4ebb85357a58ee0e6b56": {
          "model_module": "@jupyter-widgets/controls",
          "model_name": "ProgressStyleModel",
          "model_module_version": "1.5.0",
          "state": {
            "_model_module": "@jupyter-widgets/controls",
            "_model_module_version": "1.5.0",
            "_model_name": "ProgressStyleModel",
            "_view_count": null,
            "_view_module": "@jupyter-widgets/base",
            "_view_module_version": "1.2.0",
            "_view_name": "StyleView",
            "bar_color": null,
            "description_width": ""
          }
        },
        "f87aa101c5b84c68b8d57a6cdfab5153": {
          "model_module": "@jupyter-widgets/base",
          "model_name": "LayoutModel",
          "model_module_version": "1.2.0",
          "state": {
            "_model_module": "@jupyter-widgets/base",
            "_model_module_version": "1.2.0",
            "_model_name": "LayoutModel",
            "_view_count": null,
            "_view_module": "@jupyter-widgets/base",
            "_view_module_version": "1.2.0",
            "_view_name": "LayoutView",
            "align_content": null,
            "align_items": null,
            "align_self": null,
            "border": null,
            "bottom": null,
            "display": null,
            "flex": null,
            "flex_flow": null,
            "grid_area": null,
            "grid_auto_columns": null,
            "grid_auto_flow": null,
            "grid_auto_rows": null,
            "grid_column": null,
            "grid_gap": null,
            "grid_row": null,
            "grid_template_areas": null,
            "grid_template_columns": null,
            "grid_template_rows": null,
            "height": null,
            "justify_content": null,
            "justify_items": null,
            "left": null,
            "margin": null,
            "max_height": null,
            "max_width": null,
            "min_height": null,
            "min_width": null,
            "object_fit": null,
            "object_position": null,
            "order": null,
            "overflow": null,
            "overflow_x": null,
            "overflow_y": null,
            "padding": null,
            "right": null,
            "top": null,
            "visibility": null,
            "width": null
          }
        },
        "6827c8cd0df641ee9fa70341a4b9d0e0": {
          "model_module": "@jupyter-widgets/controls",
          "model_name": "DescriptionStyleModel",
          "model_module_version": "1.5.0",
          "state": {
            "_model_module": "@jupyter-widgets/controls",
            "_model_module_version": "1.5.0",
            "_model_name": "DescriptionStyleModel",
            "_view_count": null,
            "_view_module": "@jupyter-widgets/base",
            "_view_module_version": "1.2.0",
            "_view_name": "StyleView",
            "description_width": ""
          }
        },
        "10b0418efc354eefa296a53c1b2bef25": {
          "model_module": "@jupyter-widgets/controls",
          "model_name": "HBoxModel",
          "model_module_version": "1.5.0",
          "state": {
            "_dom_classes": [],
            "_model_module": "@jupyter-widgets/controls",
            "_model_module_version": "1.5.0",
            "_model_name": "HBoxModel",
            "_view_count": null,
            "_view_module": "@jupyter-widgets/controls",
            "_view_module_version": "1.5.0",
            "_view_name": "HBoxView",
            "box_style": "",
            "children": [
              "IPY_MODEL_6521f3acf54440c6ac154407b2de0e16",
              "IPY_MODEL_43437737f2dc40a8a1f2f29880a04e35",
              "IPY_MODEL_e4d59fc560c64784a766f17dfd9ff0c6"
            ],
            "layout": "IPY_MODEL_d06978e4a5664c90b56bf2623fb935b6"
          }
        },
        "6521f3acf54440c6ac154407b2de0e16": {
          "model_module": "@jupyter-widgets/controls",
          "model_name": "HTMLModel",
          "model_module_version": "1.5.0",
          "state": {
            "_dom_classes": [],
            "_model_module": "@jupyter-widgets/controls",
            "_model_module_version": "1.5.0",
            "_model_name": "HTMLModel",
            "_view_count": null,
            "_view_module": "@jupyter-widgets/controls",
            "_view_module_version": "1.5.0",
            "_view_name": "HTMLView",
            "description": "",
            "description_tooltip": null,
            "layout": "IPY_MODEL_8f620dc5641240aa96e802a1865020b6",
            "placeholder": "​",
            "style": "IPY_MODEL_42b0a17241ba4973b3fa9c956df1321f",
            "value": "Generating train split: 100%"
          }
        },
        "43437737f2dc40a8a1f2f29880a04e35": {
          "model_module": "@jupyter-widgets/controls",
          "model_name": "FloatProgressModel",
          "model_module_version": "1.5.0",
          "state": {
            "_dom_classes": [],
            "_model_module": "@jupyter-widgets/controls",
            "_model_module_version": "1.5.0",
            "_model_name": "FloatProgressModel",
            "_view_count": null,
            "_view_module": "@jupyter-widgets/controls",
            "_view_module_version": "1.5.0",
            "_view_name": "ProgressView",
            "bar_style": "success",
            "description": "",
            "description_tooltip": null,
            "layout": "IPY_MODEL_1e1be87673514b4a9294c6d1dcf686de",
            "max": 56025,
            "min": 0,
            "orientation": "horizontal",
            "style": "IPY_MODEL_9aba585adebc47eea67d565f705ab885",
            "value": 56025
          }
        },
        "e4d59fc560c64784a766f17dfd9ff0c6": {
          "model_module": "@jupyter-widgets/controls",
          "model_name": "HTMLModel",
          "model_module_version": "1.5.0",
          "state": {
            "_dom_classes": [],
            "_model_module": "@jupyter-widgets/controls",
            "_model_module_version": "1.5.0",
            "_model_name": "HTMLModel",
            "_view_count": null,
            "_view_module": "@jupyter-widgets/controls",
            "_view_module_version": "1.5.0",
            "_view_name": "HTMLView",
            "description": "",
            "description_tooltip": null,
            "layout": "IPY_MODEL_cf95ccaf5b5d41c2967f7c2062f90e69",
            "placeholder": "​",
            "style": "IPY_MODEL_b751183ca0bc43a6855e7e20888735c6",
            "value": " 56025/56025 [00:00&lt;00:00, 106976.14 examples/s]"
          }
        },
        "d06978e4a5664c90b56bf2623fb935b6": {
          "model_module": "@jupyter-widgets/base",
          "model_name": "LayoutModel",
          "model_module_version": "1.2.0",
          "state": {
            "_model_module": "@jupyter-widgets/base",
            "_model_module_version": "1.2.0",
            "_model_name": "LayoutModel",
            "_view_count": null,
            "_view_module": "@jupyter-widgets/base",
            "_view_module_version": "1.2.0",
            "_view_name": "LayoutView",
            "align_content": null,
            "align_items": null,
            "align_self": null,
            "border": null,
            "bottom": null,
            "display": null,
            "flex": null,
            "flex_flow": null,
            "grid_area": null,
            "grid_auto_columns": null,
            "grid_auto_flow": null,
            "grid_auto_rows": null,
            "grid_column": null,
            "grid_gap": null,
            "grid_row": null,
            "grid_template_areas": null,
            "grid_template_columns": null,
            "grid_template_rows": null,
            "height": null,
            "justify_content": null,
            "justify_items": null,
            "left": null,
            "margin": null,
            "max_height": null,
            "max_width": null,
            "min_height": null,
            "min_width": null,
            "object_fit": null,
            "object_position": null,
            "order": null,
            "overflow": null,
            "overflow_x": null,
            "overflow_y": null,
            "padding": null,
            "right": null,
            "top": null,
            "visibility": null,
            "width": null
          }
        },
        "8f620dc5641240aa96e802a1865020b6": {
          "model_module": "@jupyter-widgets/base",
          "model_name": "LayoutModel",
          "model_module_version": "1.2.0",
          "state": {
            "_model_module": "@jupyter-widgets/base",
            "_model_module_version": "1.2.0",
            "_model_name": "LayoutModel",
            "_view_count": null,
            "_view_module": "@jupyter-widgets/base",
            "_view_module_version": "1.2.0",
            "_view_name": "LayoutView",
            "align_content": null,
            "align_items": null,
            "align_self": null,
            "border": null,
            "bottom": null,
            "display": null,
            "flex": null,
            "flex_flow": null,
            "grid_area": null,
            "grid_auto_columns": null,
            "grid_auto_flow": null,
            "grid_auto_rows": null,
            "grid_column": null,
            "grid_gap": null,
            "grid_row": null,
            "grid_template_areas": null,
            "grid_template_columns": null,
            "grid_template_rows": null,
            "height": null,
            "justify_content": null,
            "justify_items": null,
            "left": null,
            "margin": null,
            "max_height": null,
            "max_width": null,
            "min_height": null,
            "min_width": null,
            "object_fit": null,
            "object_position": null,
            "order": null,
            "overflow": null,
            "overflow_x": null,
            "overflow_y": null,
            "padding": null,
            "right": null,
            "top": null,
            "visibility": null,
            "width": null
          }
        },
        "42b0a17241ba4973b3fa9c956df1321f": {
          "model_module": "@jupyter-widgets/controls",
          "model_name": "DescriptionStyleModel",
          "model_module_version": "1.5.0",
          "state": {
            "_model_module": "@jupyter-widgets/controls",
            "_model_module_version": "1.5.0",
            "_model_name": "DescriptionStyleModel",
            "_view_count": null,
            "_view_module": "@jupyter-widgets/base",
            "_view_module_version": "1.2.0",
            "_view_name": "StyleView",
            "description_width": ""
          }
        },
        "1e1be87673514b4a9294c6d1dcf686de": {
          "model_module": "@jupyter-widgets/base",
          "model_name": "LayoutModel",
          "model_module_version": "1.2.0",
          "state": {
            "_model_module": "@jupyter-widgets/base",
            "_model_module_version": "1.2.0",
            "_model_name": "LayoutModel",
            "_view_count": null,
            "_view_module": "@jupyter-widgets/base",
            "_view_module_version": "1.2.0",
            "_view_name": "LayoutView",
            "align_content": null,
            "align_items": null,
            "align_self": null,
            "border": null,
            "bottom": null,
            "display": null,
            "flex": null,
            "flex_flow": null,
            "grid_area": null,
            "grid_auto_columns": null,
            "grid_auto_flow": null,
            "grid_auto_rows": null,
            "grid_column": null,
            "grid_gap": null,
            "grid_row": null,
            "grid_template_areas": null,
            "grid_template_columns": null,
            "grid_template_rows": null,
            "height": null,
            "justify_content": null,
            "justify_items": null,
            "left": null,
            "margin": null,
            "max_height": null,
            "max_width": null,
            "min_height": null,
            "min_width": null,
            "object_fit": null,
            "object_position": null,
            "order": null,
            "overflow": null,
            "overflow_x": null,
            "overflow_y": null,
            "padding": null,
            "right": null,
            "top": null,
            "visibility": null,
            "width": null
          }
        },
        "9aba585adebc47eea67d565f705ab885": {
          "model_module": "@jupyter-widgets/controls",
          "model_name": "ProgressStyleModel",
          "model_module_version": "1.5.0",
          "state": {
            "_model_module": "@jupyter-widgets/controls",
            "_model_module_version": "1.5.0",
            "_model_name": "ProgressStyleModel",
            "_view_count": null,
            "_view_module": "@jupyter-widgets/base",
            "_view_module_version": "1.2.0",
            "_view_name": "StyleView",
            "bar_color": null,
            "description_width": ""
          }
        },
        "cf95ccaf5b5d41c2967f7c2062f90e69": {
          "model_module": "@jupyter-widgets/base",
          "model_name": "LayoutModel",
          "model_module_version": "1.2.0",
          "state": {
            "_model_module": "@jupyter-widgets/base",
            "_model_module_version": "1.2.0",
            "_model_name": "LayoutModel",
            "_view_count": null,
            "_view_module": "@jupyter-widgets/base",
            "_view_module_version": "1.2.0",
            "_view_name": "LayoutView",
            "align_content": null,
            "align_items": null,
            "align_self": null,
            "border": null,
            "bottom": null,
            "display": null,
            "flex": null,
            "flex_flow": null,
            "grid_area": null,
            "grid_auto_columns": null,
            "grid_auto_flow": null,
            "grid_auto_rows": null,
            "grid_column": null,
            "grid_gap": null,
            "grid_row": null,
            "grid_template_areas": null,
            "grid_template_columns": null,
            "grid_template_rows": null,
            "height": null,
            "justify_content": null,
            "justify_items": null,
            "left": null,
            "margin": null,
            "max_height": null,
            "max_width": null,
            "min_height": null,
            "min_width": null,
            "object_fit": null,
            "object_position": null,
            "order": null,
            "overflow": null,
            "overflow_x": null,
            "overflow_y": null,
            "padding": null,
            "right": null,
            "top": null,
            "visibility": null,
            "width": null
          }
        },
        "b751183ca0bc43a6855e7e20888735c6": {
          "model_module": "@jupyter-widgets/controls",
          "model_name": "DescriptionStyleModel",
          "model_module_version": "1.5.0",
          "state": {
            "_model_module": "@jupyter-widgets/controls",
            "_model_module_version": "1.5.0",
            "_model_name": "DescriptionStyleModel",
            "_view_count": null,
            "_view_module": "@jupyter-widgets/base",
            "_view_module_version": "1.2.0",
            "_view_name": "StyleView",
            "description_width": ""
          }
        }
      }
    }
  },
  "nbformat": 4,
  "nbformat_minor": 0
}